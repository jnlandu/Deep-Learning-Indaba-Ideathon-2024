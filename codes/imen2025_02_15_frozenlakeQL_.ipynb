{
  "nbformat": 4,
  "nbformat_minor": 0,
  "metadata": {
    "colab": {
      "provenance": []
    },
    "kernelspec": {
      "name": "python3",
      "display_name": "Python 3"
    },
    "language_info": {
      "name": "python"
    }
  },
  "cells": [
    {
      "cell_type": "code",
      "execution_count": null,
      "metadata": {
        "id": "s7b9_MYpdjQ1"
      },
      "outputs": [],
      "source": [
        "import numpy as np\n",
        "import gymnasium as gym\n",
        "import random\n",
        "import time\n",
        "from IPython.display import clear_output"
      ]
    },
    {
      "cell_type": "code",
      "source": [
        "env = gym.make('FrozenLake-v1', render_mode='ansi')"
      ],
      "metadata": {
        "id": "6F6bGBJ8d0wP"
      },
      "execution_count": null,
      "outputs": []
    },
    {
      "cell_type": "code",
      "source": [
        "action_space_size = env.action_space.n\n",
        "state_space_size = env.observation_space.n\n",
        "\n",
        "q_table = np.zeros((state_space_size, action_space_size))"
      ],
      "metadata": {
        "id": "TPMgnz5id3pH"
      },
      "execution_count": null,
      "outputs": []
    },
    {
      "cell_type": "code",
      "source": [
        "print(q_table)"
      ],
      "metadata": {
        "colab": {
          "base_uri": "https://localhost:8080/"
        },
        "id": "PSo1vDBud6PC",
        "outputId": "fc6c6d7a-abf9-4a28-f6a0-8aca436c74bc"
      },
      "execution_count": null,
      "outputs": [
        {
          "output_type": "stream",
          "name": "stdout",
          "text": [
            "[[0. 0. 0. 0.]\n",
            " [0. 0. 0. 0.]\n",
            " [0. 0. 0. 0.]\n",
            " [0. 0. 0. 0.]\n",
            " [0. 0. 0. 0.]\n",
            " [0. 0. 0. 0.]\n",
            " [0. 0. 0. 0.]\n",
            " [0. 0. 0. 0.]\n",
            " [0. 0. 0. 0.]\n",
            " [0. 0. 0. 0.]\n",
            " [0. 0. 0. 0.]\n",
            " [0. 0. 0. 0.]\n",
            " [0. 0. 0. 0.]\n",
            " [0. 0. 0. 0.]\n",
            " [0. 0. 0. 0.]\n",
            " [0. 0. 0. 0.]]\n"
          ]
        }
      ]
    },
    {
      "cell_type": "code",
      "source": [
        "num_episodes = 10000\n",
        "max_steps_per_episode = 100\n",
        "\n",
        "learning_rate = 0.1\n",
        "discount_rate = 0.99\n",
        "\n",
        "exploration_rate = 1\n",
        "max_exploration_rate = 1\n",
        "min_exploration_rate = 0.01\n",
        "exploration_decay_rate = 0.01"
      ],
      "metadata": {
        "id": "rgpv0s04d8zp"
      },
      "execution_count": null,
      "outputs": []
    },
    {
      "cell_type": "code",
      "source": [
        "rewards_all_episodes = []"
      ],
      "metadata": {
        "id": "qDWBO0Umd_Xo"
      },
      "execution_count": null,
      "outputs": []
    },
    {
      "cell_type": "code",
      "source": [
        "# Q-learning algorithm\n",
        "\n",
        "for episode in range(num_episodes):\n",
        "    state = env.reset()[0]\n",
        "    done = False\n",
        "    rewards_current_episode = 0\n",
        "\n",
        "    for step in range(max_steps_per_episode):\n",
        "      # Exploration-exploitation trade-off\n",
        "      exploration_rate_threshold = random.uniform(0, 1)\n",
        "      if exploration_rate_threshold > exploration_rate:\n",
        "        action = np.argmax(q_table[state,:])\n",
        "      else:\n",
        "        action = env.action_space.sample()\n",
        "      new_state, reward, done, truncated, info = env.step(action)\n",
        "    # Update Q-table for Q(s,a)\n",
        "      q_table[state, action] = q_table[state, action] * (1 - learning_rate) + \\\n",
        "        learning_rate * (reward + discount_rate * np.max(q_table[new_state, :]))\n",
        "      state = new_state\n",
        "      rewards_current_episode += reward\n",
        "      if done == True:\n",
        "        break\n",
        "  # Exploration rate decay\n",
        "    exploration_rate = min_exploration_rate + \\\n",
        "      (max_exploration_rate - min_exploration_rate) * np.exp(-exploration_decay_rate*episode)\n",
        "rewards_all_episodes.append(rewards_current_episode)\n",
        "#rewards_per_thousand_episodes = np.split(np.array(rewards_all_episodes),num_episodes/1000)\n",
        "rewards_per_thousand_episodes = np.array_split(np.array(rewards_all_episodes), num_episodes / 1000)\n",
        "count = 1000\n",
        "print(\"********Average reward per thousand episodes********\\n\")\n",
        "for r in rewards_per_thousand_episodes:\n",
        "  print(count, \": \", str(sum(r/1000)))\n",
        "  count += 1000\n",
        "# Print updated Q-table\n",
        "print(\"\\n\\n********Q-table********\\n\")\n",
        "print(q_table)\n",
        "\n"
      ],
      "metadata": {
        "colab": {
          "base_uri": "https://localhost:8080/"
        },
        "id": "3RacDgXfeC95",
        "outputId": "92db49bc-8113-4c52-ad03-b54a4721a475"
      },
      "execution_count": null,
      "outputs": [
        {
          "output_type": "stream",
          "name": "stdout",
          "text": [
            "********Average reward per thousand episodes********\n",
            "\n",
            "1000 :  0.0\n",
            "2000 :  0.001\n",
            "3000 :  0\n",
            "4000 :  0\n",
            "5000 :  0\n",
            "6000 :  0\n",
            "7000 :  0\n",
            "8000 :  0\n",
            "9000 :  0\n",
            "10000 :  0\n",
            "\n",
            "\n",
            "********Q-table********\n",
            "\n",
            "[[0.56229335 0.48868513 0.48503137 0.47540776]\n",
            " [0.11287676 0.18484418 0.16809226 0.43953491]\n",
            " [0.36173185 0.20830206 0.23751782 0.30964172]\n",
            " [0.09254382 0.08913649 0.07470109 0.28485438]\n",
            " [0.59568036 0.19537349 0.45895349 0.47556547]\n",
            " [0.         0.         0.         0.        ]\n",
            " [0.32910792 0.16710009 0.16681114 0.16516767]\n",
            " [0.         0.         0.         0.        ]\n",
            " [0.34367664 0.39009902 0.46122965 0.65059529]\n",
            " [0.49481237 0.68819779 0.39552977 0.35401881]\n",
            " [0.68512846 0.44409841 0.43707461 0.28000272]\n",
            " [0.         0.         0.         0.        ]\n",
            " [0.         0.         0.         0.        ]\n",
            " [0.55306419 0.59846356 0.78585645 0.4240859 ]\n",
            " [0.7078813  0.93384597 0.73197183 0.73134935]\n",
            " [0.         0.         0.         0.        ]]\n"
          ]
        }
      ]
    },
    {
      "cell_type": "code",
      "source": [
        "for episode in range(3):\n",
        "    state = env.reset()[0]\n",
        "    done = False\n",
        "    print(\"*****EPISODE \", episode+1, \"*****\\n\\n\\n\\n\")\n",
        "    time.sleep(1)\n",
        "    for step in range(max_steps_per_episode):\n",
        "      clear_output(wait=True)\n",
        "      print(env.render())\n",
        "      time.sleep(0.3)\n",
        "\n",
        "      action = np.argmax(q_table[state,:])\n",
        "      new_state, reward, done, truncated, info = env.step(action)\n",
        "      if done:\n",
        "        clear_output(wait=True)\n",
        "        print(env.render())\n",
        "        if reward == 1:\n",
        "          print(\"****You reached the goal!****\")\n",
        "          time.sleep(3)\n",
        "        else:\n",
        "          print(\"****You fell through a hole!****\")\n",
        "          time.sleep(3)\n",
        "          clear_output(wait=True)\n",
        "        break\n",
        "      state = new_state\n",
        "env.close()"
      ],
      "metadata": {
        "colab": {
          "base_uri": "https://localhost:8080/"
        },
        "id": "3aHvQ6rieFEx",
        "outputId": "9c6ee78b-9938-466d-ed14-b0f634519cd1"
      },
      "execution_count": null,
      "outputs": [
        {
          "output_type": "stream",
          "name": "stdout",
          "text": [
            "  (Down)\n",
            "SFFF\n",
            "FHFH\n",
            "FFFH\n",
            "HFF\u001b[41mG\u001b[0m\n",
            "\n",
            "****You reached the goal!****\n"
          ]
        }
      ]
    }
  ]
}